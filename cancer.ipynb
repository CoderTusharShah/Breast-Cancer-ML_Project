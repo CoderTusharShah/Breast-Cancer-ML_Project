{
 "cells": [
  {
   "cell_type": "markdown",
   "id": "2c70517f-dd16-433c-8bed-365ff80f50e1",
   "metadata": {},
   "source": [
    "# __Wisconsin Diagnostic Breast Cancer (WDBC)__\n",
    "#### Dataset Used : https://www.kaggle.com/datasets/uciml/breast-cancer-wisconsin-data\n",
    "#### Problem Statement : Predicting whether a tumor  is \"benign\" (noncancerous) or \"malignant\" (cancerous) using information like its radius, texture etc.\n",
    "***"
   ]
  },
  {
   "cell_type": "markdown",
   "id": "f3b28ed7-727d-4bf4-ad90-08402438eaac",
   "metadata": {
    "jp-MarkdownHeadingCollapsed": true,
    "tags": []
   },
   "source": [
    "## __Library & Dataset Importing__"
   ]
  },
  {
   "cell_type": "code",
   "execution_count": 46,
   "id": "289d4ce4-126e-4f43-921f-9fa434507890",
   "metadata": {},
   "outputs": [],
   "source": [
    "import pandas as pd\n",
    "import numpy as np\n",
    "import matplotlib.pyplot as plt\n",
    "import matplotlib\n",
    "import seaborn as sns\n",
    "import warnings\n",
    "warnings.filterwarnings(\"ignore\")\n",
    "\n",
    "from sklearn.model_selection import train_test_split\n",
    "from sklearn.preprocessing import MinMaxScaler\n",
    "from sklearn.linear_model import LogisticRegression\n",
    "from sklearn.metrics import accuracy_score\n",
    "from sklearn.metrics import confusion_matrix\n",
    "from sklearn.tree import DecisionTreeClassifier"
   ]
  },
  {
   "cell_type": "code",
   "execution_count": 2,
   "id": "b3bbf58b-14a9-4a8c-ac94-fe0c500cc4c2",
   "metadata": {},
   "outputs": [],
   "source": [
    "sns.set_style('darkgrid')\n",
    "matplotlib.rcParams['font.size'] = 14\n",
    "matplotlib.rcParams['figure.figsize'] = (8,6)\n",
    "matplotlib.rcParams['figure.facecolor'] = '#00000000'\n",
    "matplotlib.rcParams[\"font.weight\"] = \"bold\""
   ]
  },
  {
   "cell_type": "code",
   "execution_count": 3,
   "id": "82e3e72b-5d43-43c9-a951-733a8621511d",
   "metadata": {},
   "outputs": [],
   "source": [
    "#!pip install opendatasets --upgrade --quiet"
   ]
  },
  {
   "cell_type": "code",
   "execution_count": 4,
   "id": "f7c8c774-6b22-41ce-a693-540898363c1e",
   "metadata": {},
   "outputs": [],
   "source": [
    "#import opendatasets as od"
   ]
  },
  {
   "cell_type": "code",
   "execution_count": 5,
   "id": "eaf95501-c657-4749-92af-8b8b57452d2a",
   "metadata": {},
   "outputs": [],
   "source": [
    "#dataset_url = 'https://www.kaggle.com/datasets/uciml/breast-cancer-wisconsin-data'"
   ]
  },
  {
   "cell_type": "code",
   "execution_count": 6,
   "id": "5a4ecfb6-af53-49c2-932a-1feb0e3e9751",
   "metadata": {},
   "outputs": [],
   "source": [
    "#od.download(dataset_url)"
   ]
  },
  {
   "cell_type": "code",
   "execution_count": 7,
   "id": "eea964c9-a5df-4464-856c-a6db9db32c6d",
   "metadata": {},
   "outputs": [],
   "source": [
    "data_dir = './breast-cancer-wisconsin-data'"
   ]
  },
  {
   "cell_type": "code",
   "execution_count": 8,
   "id": "5decc013-0434-4822-bfe1-679d5ca45b76",
   "metadata": {},
   "outputs": [
    {
     "data": {
      "text/plain": [
       "['data.csv']"
      ]
     },
     "execution_count": 8,
     "metadata": {},
     "output_type": "execute_result"
    }
   ],
   "source": [
    "import os\n",
    "os.listdir(data_dir)"
   ]
  },
  {
   "cell_type": "code",
   "execution_count": 9,
   "id": "398e29ac-87d4-4b58-bffa-08c8259743e2",
   "metadata": {},
   "outputs": [],
   "source": [
    "cancer_csv = data_dir + '/data.csv'"
   ]
  },
  {
   "cell_type": "code",
   "execution_count": 10,
   "id": "d35994ed-f057-4053-8fb5-d3321725535c",
   "metadata": {},
   "outputs": [],
   "source": [
    "cancer_raw_df = pd.read_csv(cancer_csv)"
   ]
  },
  {
   "cell_type": "code",
   "execution_count": 11,
   "id": "db25d84b-dd84-45b2-a3d9-689625657eab",
   "metadata": {},
   "outputs": [],
   "source": [
    "cancer_df = cancer_raw_df.copy()"
   ]
  },
  {
   "cell_type": "code",
   "execution_count": 12,
   "id": "10ab4982-4cfd-4f6c-a765-6d99ac6e7192",
   "metadata": {},
   "outputs": [
    {
     "data": {
      "text/html": [
       "<div>\n",
       "<style scoped>\n",
       "    .dataframe tbody tr th:only-of-type {\n",
       "        vertical-align: middle;\n",
       "    }\n",
       "\n",
       "    .dataframe tbody tr th {\n",
       "        vertical-align: top;\n",
       "    }\n",
       "\n",
       "    .dataframe thead th {\n",
       "        text-align: right;\n",
       "    }\n",
       "</style>\n",
       "<table border=\"1\" class=\"dataframe\">\n",
       "  <thead>\n",
       "    <tr style=\"text-align: right;\">\n",
       "      <th></th>\n",
       "      <th>id</th>\n",
       "      <th>diagnosis</th>\n",
       "      <th>radius_mean</th>\n",
       "      <th>texture_mean</th>\n",
       "      <th>perimeter_mean</th>\n",
       "      <th>area_mean</th>\n",
       "      <th>smoothness_mean</th>\n",
       "      <th>compactness_mean</th>\n",
       "      <th>concavity_mean</th>\n",
       "      <th>concave points_mean</th>\n",
       "      <th>...</th>\n",
       "      <th>texture_worst</th>\n",
       "      <th>perimeter_worst</th>\n",
       "      <th>area_worst</th>\n",
       "      <th>smoothness_worst</th>\n",
       "      <th>compactness_worst</th>\n",
       "      <th>concavity_worst</th>\n",
       "      <th>concave points_worst</th>\n",
       "      <th>symmetry_worst</th>\n",
       "      <th>fractal_dimension_worst</th>\n",
       "      <th>Unnamed: 32</th>\n",
       "    </tr>\n",
       "  </thead>\n",
       "  <tbody>\n",
       "    <tr>\n",
       "      <th>0</th>\n",
       "      <td>842302</td>\n",
       "      <td>M</td>\n",
       "      <td>17.99</td>\n",
       "      <td>10.38</td>\n",
       "      <td>122.80</td>\n",
       "      <td>1001.0</td>\n",
       "      <td>0.11840</td>\n",
       "      <td>0.27760</td>\n",
       "      <td>0.3001</td>\n",
       "      <td>0.14710</td>\n",
       "      <td>...</td>\n",
       "      <td>17.33</td>\n",
       "      <td>184.60</td>\n",
       "      <td>2019.0</td>\n",
       "      <td>0.1622</td>\n",
       "      <td>0.6656</td>\n",
       "      <td>0.7119</td>\n",
       "      <td>0.2654</td>\n",
       "      <td>0.4601</td>\n",
       "      <td>0.11890</td>\n",
       "      <td>NaN</td>\n",
       "    </tr>\n",
       "    <tr>\n",
       "      <th>1</th>\n",
       "      <td>842517</td>\n",
       "      <td>M</td>\n",
       "      <td>20.57</td>\n",
       "      <td>17.77</td>\n",
       "      <td>132.90</td>\n",
       "      <td>1326.0</td>\n",
       "      <td>0.08474</td>\n",
       "      <td>0.07864</td>\n",
       "      <td>0.0869</td>\n",
       "      <td>0.07017</td>\n",
       "      <td>...</td>\n",
       "      <td>23.41</td>\n",
       "      <td>158.80</td>\n",
       "      <td>1956.0</td>\n",
       "      <td>0.1238</td>\n",
       "      <td>0.1866</td>\n",
       "      <td>0.2416</td>\n",
       "      <td>0.1860</td>\n",
       "      <td>0.2750</td>\n",
       "      <td>0.08902</td>\n",
       "      <td>NaN</td>\n",
       "    </tr>\n",
       "    <tr>\n",
       "      <th>2</th>\n",
       "      <td>84300903</td>\n",
       "      <td>M</td>\n",
       "      <td>19.69</td>\n",
       "      <td>21.25</td>\n",
       "      <td>130.00</td>\n",
       "      <td>1203.0</td>\n",
       "      <td>0.10960</td>\n",
       "      <td>0.15990</td>\n",
       "      <td>0.1974</td>\n",
       "      <td>0.12790</td>\n",
       "      <td>...</td>\n",
       "      <td>25.53</td>\n",
       "      <td>152.50</td>\n",
       "      <td>1709.0</td>\n",
       "      <td>0.1444</td>\n",
       "      <td>0.4245</td>\n",
       "      <td>0.4504</td>\n",
       "      <td>0.2430</td>\n",
       "      <td>0.3613</td>\n",
       "      <td>0.08758</td>\n",
       "      <td>NaN</td>\n",
       "    </tr>\n",
       "    <tr>\n",
       "      <th>3</th>\n",
       "      <td>84348301</td>\n",
       "      <td>M</td>\n",
       "      <td>11.42</td>\n",
       "      <td>20.38</td>\n",
       "      <td>77.58</td>\n",
       "      <td>386.1</td>\n",
       "      <td>0.14250</td>\n",
       "      <td>0.28390</td>\n",
       "      <td>0.2414</td>\n",
       "      <td>0.10520</td>\n",
       "      <td>...</td>\n",
       "      <td>26.50</td>\n",
       "      <td>98.87</td>\n",
       "      <td>567.7</td>\n",
       "      <td>0.2098</td>\n",
       "      <td>0.8663</td>\n",
       "      <td>0.6869</td>\n",
       "      <td>0.2575</td>\n",
       "      <td>0.6638</td>\n",
       "      <td>0.17300</td>\n",
       "      <td>NaN</td>\n",
       "    </tr>\n",
       "    <tr>\n",
       "      <th>4</th>\n",
       "      <td>84358402</td>\n",
       "      <td>M</td>\n",
       "      <td>20.29</td>\n",
       "      <td>14.34</td>\n",
       "      <td>135.10</td>\n",
       "      <td>1297.0</td>\n",
       "      <td>0.10030</td>\n",
       "      <td>0.13280</td>\n",
       "      <td>0.1980</td>\n",
       "      <td>0.10430</td>\n",
       "      <td>...</td>\n",
       "      <td>16.67</td>\n",
       "      <td>152.20</td>\n",
       "      <td>1575.0</td>\n",
       "      <td>0.1374</td>\n",
       "      <td>0.2050</td>\n",
       "      <td>0.4000</td>\n",
       "      <td>0.1625</td>\n",
       "      <td>0.2364</td>\n",
       "      <td>0.07678</td>\n",
       "      <td>NaN</td>\n",
       "    </tr>\n",
       "  </tbody>\n",
       "</table>\n",
       "<p>5 rows × 33 columns</p>\n",
       "</div>"
      ],
      "text/plain": [
       "         id diagnosis  radius_mean  texture_mean  perimeter_mean  area_mean  \\\n",
       "0    842302         M        17.99         10.38          122.80     1001.0   \n",
       "1    842517         M        20.57         17.77          132.90     1326.0   \n",
       "2  84300903         M        19.69         21.25          130.00     1203.0   \n",
       "3  84348301         M        11.42         20.38           77.58      386.1   \n",
       "4  84358402         M        20.29         14.34          135.10     1297.0   \n",
       "\n",
       "   smoothness_mean  compactness_mean  concavity_mean  concave points_mean  \\\n",
       "0          0.11840           0.27760          0.3001              0.14710   \n",
       "1          0.08474           0.07864          0.0869              0.07017   \n",
       "2          0.10960           0.15990          0.1974              0.12790   \n",
       "3          0.14250           0.28390          0.2414              0.10520   \n",
       "4          0.10030           0.13280          0.1980              0.10430   \n",
       "\n",
       "   ...  texture_worst  perimeter_worst  area_worst  smoothness_worst  \\\n",
       "0  ...          17.33           184.60      2019.0            0.1622   \n",
       "1  ...          23.41           158.80      1956.0            0.1238   \n",
       "2  ...          25.53           152.50      1709.0            0.1444   \n",
       "3  ...          26.50            98.87       567.7            0.2098   \n",
       "4  ...          16.67           152.20      1575.0            0.1374   \n",
       "\n",
       "   compactness_worst  concavity_worst  concave points_worst  symmetry_worst  \\\n",
       "0             0.6656           0.7119                0.2654          0.4601   \n",
       "1             0.1866           0.2416                0.1860          0.2750   \n",
       "2             0.4245           0.4504                0.2430          0.3613   \n",
       "3             0.8663           0.6869                0.2575          0.6638   \n",
       "4             0.2050           0.4000                0.1625          0.2364   \n",
       "\n",
       "   fractal_dimension_worst  Unnamed: 32  \n",
       "0                  0.11890          NaN  \n",
       "1                  0.08902          NaN  \n",
       "2                  0.08758          NaN  \n",
       "3                  0.17300          NaN  \n",
       "4                  0.07678          NaN  \n",
       "\n",
       "[5 rows x 33 columns]"
      ]
     },
     "execution_count": 12,
     "metadata": {},
     "output_type": "execute_result"
    }
   ],
   "source": [
    "cancer_df.head()"
   ]
  },
  {
   "cell_type": "code",
   "execution_count": 13,
   "id": "d5e5ed7a-bcd5-49f1-959c-46c041708d5a",
   "metadata": {},
   "outputs": [
    {
     "data": {
      "text/plain": [
       "(569, 33)"
      ]
     },
     "execution_count": 13,
     "metadata": {},
     "output_type": "execute_result"
    }
   ],
   "source": [
    "cancer_df.shape"
   ]
  },
  {
   "cell_type": "markdown",
   "id": "9f4d6292-0d0c-4faa-a0b9-e86de815c8dd",
   "metadata": {
    "jp-MarkdownHeadingCollapsed": true,
    "tags": []
   },
   "source": [
    "## __Data Cleaning & Info of Data__"
   ]
  },
  {
   "cell_type": "code",
   "execution_count": 14,
   "id": "caf26db0-9132-4087-90bb-f7a3a3b73057",
   "metadata": {},
   "outputs": [
    {
     "data": {
      "text/plain": [
       "Index(['id', 'diagnosis', 'radius_mean', 'texture_mean', 'perimeter_mean',\n",
       "       'area_mean', 'smoothness_mean', 'compactness_mean', 'concavity_mean',\n",
       "       'concave points_mean', 'symmetry_mean', 'fractal_dimension_mean',\n",
       "       'radius_se', 'texture_se', 'perimeter_se', 'area_se', 'smoothness_se',\n",
       "       'compactness_se', 'concavity_se', 'concave points_se', 'symmetry_se',\n",
       "       'fractal_dimension_se', 'radius_worst', 'texture_worst',\n",
       "       'perimeter_worst', 'area_worst', 'smoothness_worst',\n",
       "       'compactness_worst', 'concavity_worst', 'concave points_worst',\n",
       "       'symmetry_worst', 'fractal_dimension_worst', 'Unnamed: 32'],\n",
       "      dtype='object')"
      ]
     },
     "execution_count": 14,
     "metadata": {},
     "output_type": "execute_result"
    }
   ],
   "source": [
    "cancer_df.columns"
   ]
  },
  {
   "cell_type": "code",
   "execution_count": 15,
   "id": "97bee249-4712-42ca-abd2-1a4064de5cb9",
   "metadata": {},
   "outputs": [
    {
     "name": "stdout",
     "output_type": "stream",
     "text": [
      "<class 'pandas.core.frame.DataFrame'>\n",
      "RangeIndex: 569 entries, 0 to 568\n",
      "Data columns (total 33 columns):\n",
      " #   Column                   Non-Null Count  Dtype  \n",
      "---  ------                   --------------  -----  \n",
      " 0   id                       569 non-null    int64  \n",
      " 1   diagnosis                569 non-null    object \n",
      " 2   radius_mean              569 non-null    float64\n",
      " 3   texture_mean             569 non-null    float64\n",
      " 4   perimeter_mean           569 non-null    float64\n",
      " 5   area_mean                569 non-null    float64\n",
      " 6   smoothness_mean          569 non-null    float64\n",
      " 7   compactness_mean         569 non-null    float64\n",
      " 8   concavity_mean           569 non-null    float64\n",
      " 9   concave points_mean      569 non-null    float64\n",
      " 10  symmetry_mean            569 non-null    float64\n",
      " 11  fractal_dimension_mean   569 non-null    float64\n",
      " 12  radius_se                569 non-null    float64\n",
      " 13  texture_se               569 non-null    float64\n",
      " 14  perimeter_se             569 non-null    float64\n",
      " 15  area_se                  569 non-null    float64\n",
      " 16  smoothness_se            569 non-null    float64\n",
      " 17  compactness_se           569 non-null    float64\n",
      " 18  concavity_se             569 non-null    float64\n",
      " 19  concave points_se        569 non-null    float64\n",
      " 20  symmetry_se              569 non-null    float64\n",
      " 21  fractal_dimension_se     569 non-null    float64\n",
      " 22  radius_worst             569 non-null    float64\n",
      " 23  texture_worst            569 non-null    float64\n",
      " 24  perimeter_worst          569 non-null    float64\n",
      " 25  area_worst               569 non-null    float64\n",
      " 26  smoothness_worst         569 non-null    float64\n",
      " 27  compactness_worst        569 non-null    float64\n",
      " 28  concavity_worst          569 non-null    float64\n",
      " 29  concave points_worst     569 non-null    float64\n",
      " 30  symmetry_worst           569 non-null    float64\n",
      " 31  fractal_dimension_worst  569 non-null    float64\n",
      " 32  Unnamed: 32              0 non-null      float64\n",
      "dtypes: float64(31), int64(1), object(1)\n",
      "memory usage: 146.8+ KB\n"
     ]
    }
   ],
   "source": [
    "cancer_df.info()"
   ]
  },
  {
   "cell_type": "markdown",
   "id": "d7b60513-28c9-4b7c-85ec-099d95c75ad3",
   "metadata": {},
   "source": [
    "##### Dataset does not contain any null values."
   ]
  },
  {
   "cell_type": "code",
   "execution_count": 16,
   "id": "aba45a14-8c55-4d42-987e-da3ce58227ab",
   "metadata": {},
   "outputs": [
    {
     "data": {
      "text/html": [
       "<div>\n",
       "<style scoped>\n",
       "    .dataframe tbody tr th:only-of-type {\n",
       "        vertical-align: middle;\n",
       "    }\n",
       "\n",
       "    .dataframe tbody tr th {\n",
       "        vertical-align: top;\n",
       "    }\n",
       "\n",
       "    .dataframe thead th {\n",
       "        text-align: right;\n",
       "    }\n",
       "</style>\n",
       "<table border=\"1\" class=\"dataframe\">\n",
       "  <thead>\n",
       "    <tr style=\"text-align: right;\">\n",
       "      <th></th>\n",
       "      <th>id</th>\n",
       "      <th>radius_mean</th>\n",
       "      <th>texture_mean</th>\n",
       "      <th>perimeter_mean</th>\n",
       "      <th>area_mean</th>\n",
       "      <th>smoothness_mean</th>\n",
       "      <th>compactness_mean</th>\n",
       "      <th>concavity_mean</th>\n",
       "      <th>concave points_mean</th>\n",
       "      <th>symmetry_mean</th>\n",
       "      <th>...</th>\n",
       "      <th>texture_worst</th>\n",
       "      <th>perimeter_worst</th>\n",
       "      <th>area_worst</th>\n",
       "      <th>smoothness_worst</th>\n",
       "      <th>compactness_worst</th>\n",
       "      <th>concavity_worst</th>\n",
       "      <th>concave points_worst</th>\n",
       "      <th>symmetry_worst</th>\n",
       "      <th>fractal_dimension_worst</th>\n",
       "      <th>Unnamed: 32</th>\n",
       "    </tr>\n",
       "  </thead>\n",
       "  <tbody>\n",
       "    <tr>\n",
       "      <th>count</th>\n",
       "      <td>5.690000e+02</td>\n",
       "      <td>569.000000</td>\n",
       "      <td>569.000000</td>\n",
       "      <td>569.000000</td>\n",
       "      <td>569.000000</td>\n",
       "      <td>569.000000</td>\n",
       "      <td>569.000000</td>\n",
       "      <td>569.000000</td>\n",
       "      <td>569.000000</td>\n",
       "      <td>569.000000</td>\n",
       "      <td>...</td>\n",
       "      <td>569.000000</td>\n",
       "      <td>569.000000</td>\n",
       "      <td>569.000000</td>\n",
       "      <td>569.000000</td>\n",
       "      <td>569.000000</td>\n",
       "      <td>569.000000</td>\n",
       "      <td>569.000000</td>\n",
       "      <td>569.000000</td>\n",
       "      <td>569.000000</td>\n",
       "      <td>0.0</td>\n",
       "    </tr>\n",
       "    <tr>\n",
       "      <th>mean</th>\n",
       "      <td>3.037183e+07</td>\n",
       "      <td>14.127292</td>\n",
       "      <td>19.289649</td>\n",
       "      <td>91.969033</td>\n",
       "      <td>654.889104</td>\n",
       "      <td>0.096360</td>\n",
       "      <td>0.104341</td>\n",
       "      <td>0.088799</td>\n",
       "      <td>0.048919</td>\n",
       "      <td>0.181162</td>\n",
       "      <td>...</td>\n",
       "      <td>25.677223</td>\n",
       "      <td>107.261213</td>\n",
       "      <td>880.583128</td>\n",
       "      <td>0.132369</td>\n",
       "      <td>0.254265</td>\n",
       "      <td>0.272188</td>\n",
       "      <td>0.114606</td>\n",
       "      <td>0.290076</td>\n",
       "      <td>0.083946</td>\n",
       "      <td>NaN</td>\n",
       "    </tr>\n",
       "    <tr>\n",
       "      <th>std</th>\n",
       "      <td>1.250206e+08</td>\n",
       "      <td>3.524049</td>\n",
       "      <td>4.301036</td>\n",
       "      <td>24.298981</td>\n",
       "      <td>351.914129</td>\n",
       "      <td>0.014064</td>\n",
       "      <td>0.052813</td>\n",
       "      <td>0.079720</td>\n",
       "      <td>0.038803</td>\n",
       "      <td>0.027414</td>\n",
       "      <td>...</td>\n",
       "      <td>6.146258</td>\n",
       "      <td>33.602542</td>\n",
       "      <td>569.356993</td>\n",
       "      <td>0.022832</td>\n",
       "      <td>0.157336</td>\n",
       "      <td>0.208624</td>\n",
       "      <td>0.065732</td>\n",
       "      <td>0.061867</td>\n",
       "      <td>0.018061</td>\n",
       "      <td>NaN</td>\n",
       "    </tr>\n",
       "    <tr>\n",
       "      <th>min</th>\n",
       "      <td>8.670000e+03</td>\n",
       "      <td>6.981000</td>\n",
       "      <td>9.710000</td>\n",
       "      <td>43.790000</td>\n",
       "      <td>143.500000</td>\n",
       "      <td>0.052630</td>\n",
       "      <td>0.019380</td>\n",
       "      <td>0.000000</td>\n",
       "      <td>0.000000</td>\n",
       "      <td>0.106000</td>\n",
       "      <td>...</td>\n",
       "      <td>12.020000</td>\n",
       "      <td>50.410000</td>\n",
       "      <td>185.200000</td>\n",
       "      <td>0.071170</td>\n",
       "      <td>0.027290</td>\n",
       "      <td>0.000000</td>\n",
       "      <td>0.000000</td>\n",
       "      <td>0.156500</td>\n",
       "      <td>0.055040</td>\n",
       "      <td>NaN</td>\n",
       "    </tr>\n",
       "    <tr>\n",
       "      <th>25%</th>\n",
       "      <td>8.692180e+05</td>\n",
       "      <td>11.700000</td>\n",
       "      <td>16.170000</td>\n",
       "      <td>75.170000</td>\n",
       "      <td>420.300000</td>\n",
       "      <td>0.086370</td>\n",
       "      <td>0.064920</td>\n",
       "      <td>0.029560</td>\n",
       "      <td>0.020310</td>\n",
       "      <td>0.161900</td>\n",
       "      <td>...</td>\n",
       "      <td>21.080000</td>\n",
       "      <td>84.110000</td>\n",
       "      <td>515.300000</td>\n",
       "      <td>0.116600</td>\n",
       "      <td>0.147200</td>\n",
       "      <td>0.114500</td>\n",
       "      <td>0.064930</td>\n",
       "      <td>0.250400</td>\n",
       "      <td>0.071460</td>\n",
       "      <td>NaN</td>\n",
       "    </tr>\n",
       "    <tr>\n",
       "      <th>50%</th>\n",
       "      <td>9.060240e+05</td>\n",
       "      <td>13.370000</td>\n",
       "      <td>18.840000</td>\n",
       "      <td>86.240000</td>\n",
       "      <td>551.100000</td>\n",
       "      <td>0.095870</td>\n",
       "      <td>0.092630</td>\n",
       "      <td>0.061540</td>\n",
       "      <td>0.033500</td>\n",
       "      <td>0.179200</td>\n",
       "      <td>...</td>\n",
       "      <td>25.410000</td>\n",
       "      <td>97.660000</td>\n",
       "      <td>686.500000</td>\n",
       "      <td>0.131300</td>\n",
       "      <td>0.211900</td>\n",
       "      <td>0.226700</td>\n",
       "      <td>0.099930</td>\n",
       "      <td>0.282200</td>\n",
       "      <td>0.080040</td>\n",
       "      <td>NaN</td>\n",
       "    </tr>\n",
       "    <tr>\n",
       "      <th>75%</th>\n",
       "      <td>8.813129e+06</td>\n",
       "      <td>15.780000</td>\n",
       "      <td>21.800000</td>\n",
       "      <td>104.100000</td>\n",
       "      <td>782.700000</td>\n",
       "      <td>0.105300</td>\n",
       "      <td>0.130400</td>\n",
       "      <td>0.130700</td>\n",
       "      <td>0.074000</td>\n",
       "      <td>0.195700</td>\n",
       "      <td>...</td>\n",
       "      <td>29.720000</td>\n",
       "      <td>125.400000</td>\n",
       "      <td>1084.000000</td>\n",
       "      <td>0.146000</td>\n",
       "      <td>0.339100</td>\n",
       "      <td>0.382900</td>\n",
       "      <td>0.161400</td>\n",
       "      <td>0.317900</td>\n",
       "      <td>0.092080</td>\n",
       "      <td>NaN</td>\n",
       "    </tr>\n",
       "    <tr>\n",
       "      <th>max</th>\n",
       "      <td>9.113205e+08</td>\n",
       "      <td>28.110000</td>\n",
       "      <td>39.280000</td>\n",
       "      <td>188.500000</td>\n",
       "      <td>2501.000000</td>\n",
       "      <td>0.163400</td>\n",
       "      <td>0.345400</td>\n",
       "      <td>0.426800</td>\n",
       "      <td>0.201200</td>\n",
       "      <td>0.304000</td>\n",
       "      <td>...</td>\n",
       "      <td>49.540000</td>\n",
       "      <td>251.200000</td>\n",
       "      <td>4254.000000</td>\n",
       "      <td>0.222600</td>\n",
       "      <td>1.058000</td>\n",
       "      <td>1.252000</td>\n",
       "      <td>0.291000</td>\n",
       "      <td>0.663800</td>\n",
       "      <td>0.207500</td>\n",
       "      <td>NaN</td>\n",
       "    </tr>\n",
       "  </tbody>\n",
       "</table>\n",
       "<p>8 rows × 32 columns</p>\n",
       "</div>"
      ],
      "text/plain": [
       "                 id  radius_mean  texture_mean  perimeter_mean    area_mean  \\\n",
       "count  5.690000e+02   569.000000    569.000000      569.000000   569.000000   \n",
       "mean   3.037183e+07    14.127292     19.289649       91.969033   654.889104   \n",
       "std    1.250206e+08     3.524049      4.301036       24.298981   351.914129   \n",
       "min    8.670000e+03     6.981000      9.710000       43.790000   143.500000   \n",
       "25%    8.692180e+05    11.700000     16.170000       75.170000   420.300000   \n",
       "50%    9.060240e+05    13.370000     18.840000       86.240000   551.100000   \n",
       "75%    8.813129e+06    15.780000     21.800000      104.100000   782.700000   \n",
       "max    9.113205e+08    28.110000     39.280000      188.500000  2501.000000   \n",
       "\n",
       "       smoothness_mean  compactness_mean  concavity_mean  concave points_mean  \\\n",
       "count       569.000000        569.000000      569.000000           569.000000   \n",
       "mean          0.096360          0.104341        0.088799             0.048919   \n",
       "std           0.014064          0.052813        0.079720             0.038803   \n",
       "min           0.052630          0.019380        0.000000             0.000000   \n",
       "25%           0.086370          0.064920        0.029560             0.020310   \n",
       "50%           0.095870          0.092630        0.061540             0.033500   \n",
       "75%           0.105300          0.130400        0.130700             0.074000   \n",
       "max           0.163400          0.345400        0.426800             0.201200   \n",
       "\n",
       "       symmetry_mean  ...  texture_worst  perimeter_worst   area_worst  \\\n",
       "count     569.000000  ...     569.000000       569.000000   569.000000   \n",
       "mean        0.181162  ...      25.677223       107.261213   880.583128   \n",
       "std         0.027414  ...       6.146258        33.602542   569.356993   \n",
       "min         0.106000  ...      12.020000        50.410000   185.200000   \n",
       "25%         0.161900  ...      21.080000        84.110000   515.300000   \n",
       "50%         0.179200  ...      25.410000        97.660000   686.500000   \n",
       "75%         0.195700  ...      29.720000       125.400000  1084.000000   \n",
       "max         0.304000  ...      49.540000       251.200000  4254.000000   \n",
       "\n",
       "       smoothness_worst  compactness_worst  concavity_worst  \\\n",
       "count        569.000000         569.000000       569.000000   \n",
       "mean           0.132369           0.254265         0.272188   \n",
       "std            0.022832           0.157336         0.208624   \n",
       "min            0.071170           0.027290         0.000000   \n",
       "25%            0.116600           0.147200         0.114500   \n",
       "50%            0.131300           0.211900         0.226700   \n",
       "75%            0.146000           0.339100         0.382900   \n",
       "max            0.222600           1.058000         1.252000   \n",
       "\n",
       "       concave points_worst  symmetry_worst  fractal_dimension_worst  \\\n",
       "count            569.000000      569.000000               569.000000   \n",
       "mean               0.114606        0.290076                 0.083946   \n",
       "std                0.065732        0.061867                 0.018061   \n",
       "min                0.000000        0.156500                 0.055040   \n",
       "25%                0.064930        0.250400                 0.071460   \n",
       "50%                0.099930        0.282200                 0.080040   \n",
       "75%                0.161400        0.317900                 0.092080   \n",
       "max                0.291000        0.663800                 0.207500   \n",
       "\n",
       "       Unnamed: 32  \n",
       "count          0.0  \n",
       "mean           NaN  \n",
       "std            NaN  \n",
       "min            NaN  \n",
       "25%            NaN  \n",
       "50%            NaN  \n",
       "75%            NaN  \n",
       "max            NaN  \n",
       "\n",
       "[8 rows x 32 columns]"
      ]
     },
     "execution_count": 16,
     "metadata": {},
     "output_type": "execute_result"
    }
   ],
   "source": [
    "cancer_df.describe()"
   ]
  },
  {
   "cell_type": "code",
   "execution_count": 17,
   "id": "c818a3f7-a449-452c-948e-2c36086d6ce4",
   "metadata": {},
   "outputs": [],
   "source": [
    "cancer_df.drop('Unnamed: 32' , axis = 1 , inplace = True)"
   ]
  },
  {
   "cell_type": "code",
   "execution_count": 18,
   "id": "26dd8a2c-b940-455b-8e77-910a1edcdc91",
   "metadata": {},
   "outputs": [
    {
     "data": {
      "text/plain": [
       "(569, 32)"
      ]
     },
     "execution_count": 18,
     "metadata": {},
     "output_type": "execute_result"
    }
   ],
   "source": [
    "cancer_df.shape"
   ]
  },
  {
   "cell_type": "markdown",
   "id": "0f088150-759e-4bf3-a578-cadcb0f2a493",
   "metadata": {
    "jp-MarkdownHeadingCollapsed": true,
    "tags": []
   },
   "source": [
    "## __Data Preprocessing__\n",
    ">1. Training , Test & Validation Test\n",
    "2. Identifying Input & Target Columns & Updating to Train,Test & Val Set\n",
    "3. Identifying Numeric & Categorcial Columns\n",
    "4. Imputing Missing Numeric Values\n",
    "5. Scaling the Data\n",
    "6. Encoding Categorical Data\n",
    "7. Loding scaled & encoded data back to Train,Test,Val Inputs\n",
    "\n",
    "***"
   ]
  },
  {
   "cell_type": "markdown",
   "id": "71704a07-479d-4971-9cc4-1f2c09c83cd1",
   "metadata": {},
   "source": [
    "#### 1. Training , Test & Validation Test"
   ]
  },
  {
   "cell_type": "code",
   "execution_count": 19,
   "id": "2472fca7-8cf8-40cf-8ca8-256fc2fa0251",
   "metadata": {},
   "outputs": [],
   "source": [
    "train_val_df , test_df = train_test_split(cancer_df , test_size = 0.2 , random_state = 42)\n",
    "train_df , val_df = train_test_split(train_val_df , test_size = 0.25 , random_state = 42)"
   ]
  },
  {
   "cell_type": "code",
   "execution_count": 20,
   "id": "096159b6-fd81-40ba-9cde-0d5223ff8684",
   "metadata": {},
   "outputs": [
    {
     "name": "stdout",
     "output_type": "stream",
     "text": [
      "Train size (341, 32)\n",
      "Train size (114, 32)\n",
      "Train size (114, 32)\n"
     ]
    }
   ],
   "source": [
    "print('Train size', train_df.shape)\n",
    "print('Train size', val_df.shape)\n",
    "print('Train size', test_df.shape)"
   ]
  },
  {
   "cell_type": "markdown",
   "id": "6dd6e381-06ac-4a66-9245-bf0756bdd47c",
   "metadata": {},
   "source": [
    "#### 2. Identifying Input & Target Columns"
   ]
  },
  {
   "cell_type": "code",
   "execution_count": 21,
   "id": "04b87acc-027e-4fec-b5c9-14894431ef9d",
   "metadata": {},
   "outputs": [],
   "source": [
    "input_cols = list(cancer_df.columns)[2:-1]\n",
    "target_col = 'diagnosis'"
   ]
  },
  {
   "cell_type": "code",
   "execution_count": 22,
   "id": "563e7b56-f74a-4a1b-8b2b-f890dce2f6a0",
   "metadata": {},
   "outputs": [
    {
     "data": {
      "text/plain": [
       "['radius_mean',\n",
       " 'texture_mean',\n",
       " 'perimeter_mean',\n",
       " 'area_mean',\n",
       " 'smoothness_mean',\n",
       " 'compactness_mean',\n",
       " 'concavity_mean',\n",
       " 'concave points_mean',\n",
       " 'symmetry_mean',\n",
       " 'fractal_dimension_mean',\n",
       " 'radius_se',\n",
       " 'texture_se',\n",
       " 'perimeter_se',\n",
       " 'area_se',\n",
       " 'smoothness_se',\n",
       " 'compactness_se',\n",
       " 'concavity_se',\n",
       " 'concave points_se',\n",
       " 'symmetry_se',\n",
       " 'fractal_dimension_se',\n",
       " 'radius_worst',\n",
       " 'texture_worst',\n",
       " 'perimeter_worst',\n",
       " 'area_worst',\n",
       " 'smoothness_worst',\n",
       " 'compactness_worst',\n",
       " 'concavity_worst',\n",
       " 'concave points_worst',\n",
       " 'symmetry_worst']"
      ]
     },
     "execution_count": 22,
     "metadata": {},
     "output_type": "execute_result"
    }
   ],
   "source": [
    "input_cols"
   ]
  },
  {
   "cell_type": "code",
   "execution_count": 23,
   "id": "a515c4d7-aed0-4773-ad5d-103354c7c3ae",
   "metadata": {},
   "outputs": [],
   "source": [
    "train_input = train_df[input_cols]\n",
    "train_target = train_df[target_col]"
   ]
  },
  {
   "cell_type": "code",
   "execution_count": 24,
   "id": "2ab2d990-7347-407f-8287-b7f60188dc3f",
   "metadata": {},
   "outputs": [],
   "source": [
    "val_input = val_df[input_cols]\n",
    "val_target = val_df[target_col]"
   ]
  },
  {
   "cell_type": "code",
   "execution_count": 25,
   "id": "c87bc2db-f705-4c9b-b090-2f4c71a1c199",
   "metadata": {},
   "outputs": [],
   "source": [
    "test_input = test_df[input_cols]\n",
    "test_target = test_df[target_col]"
   ]
  },
  {
   "cell_type": "markdown",
   "id": "87c183d0-c2d3-4957-9e9e-604f64a50dd2",
   "metadata": {},
   "source": [
    "#### 3. Identifying Numeric & Categorical Cols"
   ]
  },
  {
   "cell_type": "code",
   "execution_count": 26,
   "id": "0a1a36fa-ad72-4780-9d35-4abac08dc4a9",
   "metadata": {},
   "outputs": [],
   "source": [
    "numeric_cols = train_input.select_dtypes(include = np.number).columns.tolist()\n",
    "categorical_cols = train_input.select_dtypes('object').columns.tolist()"
   ]
  },
  {
   "cell_type": "code",
   "execution_count": 27,
   "id": "7a7d4a91-df93-404b-afa1-19b168c4bd2f",
   "metadata": {},
   "outputs": [
    {
     "name": "stdout",
     "output_type": "stream",
     "text": [
      "['radius_mean', 'texture_mean', 'perimeter_mean', 'area_mean', 'smoothness_mean', 'compactness_mean', 'concavity_mean', 'concave points_mean', 'symmetry_mean', 'fractal_dimension_mean', 'radius_se', 'texture_se', 'perimeter_se', 'area_se', 'smoothness_se', 'compactness_se', 'concavity_se', 'concave points_se', 'symmetry_se', 'fractal_dimension_se', 'radius_worst', 'texture_worst', 'perimeter_worst', 'area_worst', 'smoothness_worst', 'compactness_worst', 'concavity_worst', 'concave points_worst', 'symmetry_worst']\n",
      "[]\n"
     ]
    }
   ],
   "source": [
    "print(numeric_cols)\n",
    "print(categorical_cols)"
   ]
  },
  {
   "cell_type": "markdown",
   "id": "93eaaf2f-c717-4364-850f-10e86773a3aa",
   "metadata": {},
   "source": [
    "##### The dataset does not contain any categorical columns."
   ]
  },
  {
   "cell_type": "markdown",
   "id": "1c23ddb1-bb61-44f5-acc7-13b2ef1588f4",
   "metadata": {},
   "source": [
    "#### 4. Imputing missing numerical data"
   ]
  },
  {
   "cell_type": "code",
   "execution_count": 28,
   "id": "811c58f5-0fab-4c64-a9f8-dedd334d1fcb",
   "metadata": {},
   "outputs": [
    {
     "data": {
      "text/plain": [
       "radius_mean               0\n",
       "texture_mean              0\n",
       "perimeter_mean            0\n",
       "area_mean                 0\n",
       "smoothness_mean           0\n",
       "compactness_mean          0\n",
       "concavity_mean            0\n",
       "concave points_mean       0\n",
       "symmetry_mean             0\n",
       "fractal_dimension_mean    0\n",
       "radius_se                 0\n",
       "texture_se                0\n",
       "perimeter_se              0\n",
       "area_se                   0\n",
       "smoothness_se             0\n",
       "compactness_se            0\n",
       "concavity_se              0\n",
       "concave points_se         0\n",
       "symmetry_se               0\n",
       "fractal_dimension_se      0\n",
       "radius_worst              0\n",
       "texture_worst             0\n",
       "perimeter_worst           0\n",
       "area_worst                0\n",
       "smoothness_worst          0\n",
       "compactness_worst         0\n",
       "concavity_worst           0\n",
       "concave points_worst      0\n",
       "symmetry_worst            0\n",
       "dtype: int64"
      ]
     },
     "execution_count": 28,
     "metadata": {},
     "output_type": "execute_result"
    }
   ],
   "source": [
    "cancer_df[numeric_cols].isna().sum()"
   ]
  },
  {
   "cell_type": "markdown",
   "id": "5890a63b-298e-4029-9eb6-cf15478c79c0",
   "metadata": {},
   "source": [
    "##### The dataset does not contain any missing value."
   ]
  },
  {
   "cell_type": "markdown",
   "id": "b01b84db-0661-4281-9fd2-9490855501cc",
   "metadata": {},
   "source": [
    "#### 5. Scaling Numerical Data"
   ]
  },
  {
   "cell_type": "code",
   "execution_count": 29,
   "id": "1f4bf89d-ec12-40a8-8854-7a6624928128",
   "metadata": {},
   "outputs": [],
   "source": [
    "scaler = MinMaxScaler()"
   ]
  },
  {
   "cell_type": "code",
   "execution_count": 30,
   "id": "68648b8f-3832-4136-8594-5f5ddcd1843f",
   "metadata": {},
   "outputs": [
    {
     "data": {
      "text/plain": [
       "MinMaxScaler()"
      ]
     },
     "execution_count": 30,
     "metadata": {},
     "output_type": "execute_result"
    }
   ],
   "source": [
    "scaler.fit(cancer_df[numeric_cols])"
   ]
  },
  {
   "cell_type": "code",
   "execution_count": 31,
   "id": "7f05cdfa-16b0-489e-aae4-a22a07cd8cea",
   "metadata": {},
   "outputs": [],
   "source": [
    "train_input[numeric_cols] = scaler.transform(train_input[numeric_cols])\n",
    "val_input[numeric_cols] = scaler.transform(val_input[numeric_cols])\n",
    "test_input[numeric_cols] = scaler.transform(test_input[numeric_cols])"
   ]
  },
  {
   "cell_type": "code",
   "execution_count": 32,
   "id": "599c3dfe-756a-4ca3-aeb9-1cd615926d36",
   "metadata": {},
   "outputs": [
    {
     "data": {
      "text/html": [
       "<div>\n",
       "<style scoped>\n",
       "    .dataframe tbody tr th:only-of-type {\n",
       "        vertical-align: middle;\n",
       "    }\n",
       "\n",
       "    .dataframe tbody tr th {\n",
       "        vertical-align: top;\n",
       "    }\n",
       "\n",
       "    .dataframe thead th {\n",
       "        text-align: right;\n",
       "    }\n",
       "</style>\n",
       "<table border=\"1\" class=\"dataframe\">\n",
       "  <thead>\n",
       "    <tr style=\"text-align: right;\">\n",
       "      <th></th>\n",
       "      <th>radius_mean</th>\n",
       "      <th>texture_mean</th>\n",
       "      <th>perimeter_mean</th>\n",
       "      <th>area_mean</th>\n",
       "      <th>smoothness_mean</th>\n",
       "      <th>compactness_mean</th>\n",
       "      <th>concavity_mean</th>\n",
       "      <th>concave points_mean</th>\n",
       "      <th>symmetry_mean</th>\n",
       "      <th>fractal_dimension_mean</th>\n",
       "      <th>...</th>\n",
       "      <th>fractal_dimension_se</th>\n",
       "      <th>radius_worst</th>\n",
       "      <th>texture_worst</th>\n",
       "      <th>perimeter_worst</th>\n",
       "      <th>area_worst</th>\n",
       "      <th>smoothness_worst</th>\n",
       "      <th>compactness_worst</th>\n",
       "      <th>concavity_worst</th>\n",
       "      <th>concave points_worst</th>\n",
       "      <th>symmetry_worst</th>\n",
       "    </tr>\n",
       "  </thead>\n",
       "  <tbody>\n",
       "    <tr>\n",
       "      <th>count</th>\n",
       "      <td>341.000000</td>\n",
       "      <td>341.000000</td>\n",
       "      <td>341.000000</td>\n",
       "      <td>341.000000</td>\n",
       "      <td>341.000000</td>\n",
       "      <td>341.000000</td>\n",
       "      <td>341.000000</td>\n",
       "      <td>341.000000</td>\n",
       "      <td>341.000000</td>\n",
       "      <td>341.000000</td>\n",
       "      <td>...</td>\n",
       "      <td>341.000000</td>\n",
       "      <td>341.000000</td>\n",
       "      <td>341.000000</td>\n",
       "      <td>341.000000</td>\n",
       "      <td>341.000000</td>\n",
       "      <td>341.000000</td>\n",
       "      <td>341.000000</td>\n",
       "      <td>341.000000</td>\n",
       "      <td>341.000000</td>\n",
       "      <td>341.000000</td>\n",
       "    </tr>\n",
       "    <tr>\n",
       "      <th>mean</th>\n",
       "      <td>0.332268</td>\n",
       "      <td>0.318504</td>\n",
       "      <td>0.326451</td>\n",
       "      <td>0.211712</td>\n",
       "      <td>0.390940</td>\n",
       "      <td>0.254246</td>\n",
       "      <td>0.200232</td>\n",
       "      <td>0.234369</td>\n",
       "      <td>0.383871</td>\n",
       "      <td>0.269382</td>\n",
       "      <td>...</td>\n",
       "      <td>0.099058</td>\n",
       "      <td>0.291555</td>\n",
       "      <td>0.358350</td>\n",
       "      <td>0.278217</td>\n",
       "      <td>0.167458</td>\n",
       "      <td>0.398758</td>\n",
       "      <td>0.215037</td>\n",
       "      <td>0.210895</td>\n",
       "      <td>0.386814</td>\n",
       "      <td>0.266614</td>\n",
       "    </tr>\n",
       "    <tr>\n",
       "      <th>std</th>\n",
       "      <td>0.164389</td>\n",
       "      <td>0.141954</td>\n",
       "      <td>0.165191</td>\n",
       "      <td>0.146545</td>\n",
       "      <td>0.130450</td>\n",
       "      <td>0.165308</td>\n",
       "      <td>0.185427</td>\n",
       "      <td>0.189919</td>\n",
       "      <td>0.142330</td>\n",
       "      <td>0.156107</td>\n",
       "      <td>...</td>\n",
       "      <td>0.096749</td>\n",
       "      <td>0.172374</td>\n",
       "      <td>0.159304</td>\n",
       "      <td>0.167639</td>\n",
       "      <td>0.142196</td>\n",
       "      <td>0.154633</td>\n",
       "      <td>0.152456</td>\n",
       "      <td>0.160643</td>\n",
       "      <td>0.227713</td>\n",
       "      <td>0.126462</td>\n",
       "    </tr>\n",
       "    <tr>\n",
       "      <th>min</th>\n",
       "      <td>0.033603</td>\n",
       "      <td>0.000000</td>\n",
       "      <td>0.028540</td>\n",
       "      <td>0.011410</td>\n",
       "      <td>0.000000</td>\n",
       "      <td>0.000000</td>\n",
       "      <td>0.000000</td>\n",
       "      <td>0.000000</td>\n",
       "      <td>0.054040</td>\n",
       "      <td>0.000000</td>\n",
       "      <td>...</td>\n",
       "      <td>0.000000</td>\n",
       "      <td>0.026610</td>\n",
       "      <td>0.000000</td>\n",
       "      <td>0.020320</td>\n",
       "      <td>0.009438</td>\n",
       "      <td>0.066565</td>\n",
       "      <td>0.006821</td>\n",
       "      <td>0.000000</td>\n",
       "      <td>0.000000</td>\n",
       "      <td>0.000000</td>\n",
       "    </tr>\n",
       "    <tr>\n",
       "      <th>25%</th>\n",
       "      <td>0.220029</td>\n",
       "      <td>0.223537</td>\n",
       "      <td>0.213461</td>\n",
       "      <td>0.114146</td>\n",
       "      <td>0.299630</td>\n",
       "      <td>0.129471</td>\n",
       "      <td>0.061809</td>\n",
       "      <td>0.095626</td>\n",
       "      <td>0.282828</td>\n",
       "      <td>0.161542</td>\n",
       "      <td>...</td>\n",
       "      <td>0.045023</td>\n",
       "      <td>0.179651</td>\n",
       "      <td>0.244136</td>\n",
       "      <td>0.165347</td>\n",
       "      <td>0.080785</td>\n",
       "      <td>0.282837</td>\n",
       "      <td>0.107508</td>\n",
       "      <td>0.086821</td>\n",
       "      <td>0.216357</td>\n",
       "      <td>0.189237</td>\n",
       "    </tr>\n",
       "    <tr>\n",
       "      <th>50%</th>\n",
       "      <td>0.294335</td>\n",
       "      <td>0.308083</td>\n",
       "      <td>0.288093</td>\n",
       "      <td>0.167508</td>\n",
       "      <td>0.377088</td>\n",
       "      <td>0.205632</td>\n",
       "      <td>0.135286</td>\n",
       "      <td>0.161531</td>\n",
       "      <td>0.373232</td>\n",
       "      <td>0.246420</td>\n",
       "      <td>...</td>\n",
       "      <td>0.077256</td>\n",
       "      <td>0.248310</td>\n",
       "      <td>0.351812</td>\n",
       "      <td>0.232880</td>\n",
       "      <td>0.120306</td>\n",
       "      <td>0.390477</td>\n",
       "      <td>0.173094</td>\n",
       "      <td>0.171805</td>\n",
       "      <td>0.338866</td>\n",
       "      <td>0.251528</td>\n",
       "    </tr>\n",
       "    <tr>\n",
       "      <th>75%</th>\n",
       "      <td>0.410762</td>\n",
       "      <td>0.400744</td>\n",
       "      <td>0.407781</td>\n",
       "      <td>0.260912</td>\n",
       "      <td>0.471879</td>\n",
       "      <td>0.338998</td>\n",
       "      <td>0.285380</td>\n",
       "      <td>0.336581</td>\n",
       "      <td>0.457576</td>\n",
       "      <td>0.338037</td>\n",
       "      <td>...</td>\n",
       "      <td>0.122307</td>\n",
       "      <td>0.361793</td>\n",
       "      <td>0.463486</td>\n",
       "      <td>0.358534</td>\n",
       "      <td>0.205417</td>\n",
       "      <td>0.494156</td>\n",
       "      <td>0.304945</td>\n",
       "      <td>0.300240</td>\n",
       "      <td>0.537801</td>\n",
       "      <td>0.317564</td>\n",
       "    </tr>\n",
       "    <tr>\n",
       "      <th>max</th>\n",
       "      <td>0.967343</td>\n",
       "      <td>1.000000</td>\n",
       "      <td>0.988943</td>\n",
       "      <td>1.000000</td>\n",
       "      <td>1.000000</td>\n",
       "      <td>0.895712</td>\n",
       "      <td>1.000000</td>\n",
       "      <td>1.000000</td>\n",
       "      <td>0.850000</td>\n",
       "      <td>1.000000</td>\n",
       "      <td>...</td>\n",
       "      <td>1.000000</td>\n",
       "      <td>1.000000</td>\n",
       "      <td>1.000000</td>\n",
       "      <td>1.000000</td>\n",
       "      <td>1.000000</td>\n",
       "      <td>0.972264</td>\n",
       "      <td>0.883478</td>\n",
       "      <td>0.767412</td>\n",
       "      <td>1.000000</td>\n",
       "      <td>1.000000</td>\n",
       "    </tr>\n",
       "  </tbody>\n",
       "</table>\n",
       "<p>8 rows × 29 columns</p>\n",
       "</div>"
      ],
      "text/plain": [
       "       radius_mean  texture_mean  perimeter_mean   area_mean  smoothness_mean  \\\n",
       "count   341.000000    341.000000      341.000000  341.000000       341.000000   \n",
       "mean      0.332268      0.318504        0.326451    0.211712         0.390940   \n",
       "std       0.164389      0.141954        0.165191    0.146545         0.130450   \n",
       "min       0.033603      0.000000        0.028540    0.011410         0.000000   \n",
       "25%       0.220029      0.223537        0.213461    0.114146         0.299630   \n",
       "50%       0.294335      0.308083        0.288093    0.167508         0.377088   \n",
       "75%       0.410762      0.400744        0.407781    0.260912         0.471879   \n",
       "max       0.967343      1.000000        0.988943    1.000000         1.000000   \n",
       "\n",
       "       compactness_mean  concavity_mean  concave points_mean  symmetry_mean  \\\n",
       "count        341.000000      341.000000           341.000000     341.000000   \n",
       "mean           0.254246        0.200232             0.234369       0.383871   \n",
       "std            0.165308        0.185427             0.189919       0.142330   \n",
       "min            0.000000        0.000000             0.000000       0.054040   \n",
       "25%            0.129471        0.061809             0.095626       0.282828   \n",
       "50%            0.205632        0.135286             0.161531       0.373232   \n",
       "75%            0.338998        0.285380             0.336581       0.457576   \n",
       "max            0.895712        1.000000             1.000000       0.850000   \n",
       "\n",
       "       fractal_dimension_mean  ...  fractal_dimension_se  radius_worst  \\\n",
       "count              341.000000  ...            341.000000    341.000000   \n",
       "mean                 0.269382  ...              0.099058      0.291555   \n",
       "std                  0.156107  ...              0.096749      0.172374   \n",
       "min                  0.000000  ...              0.000000      0.026610   \n",
       "25%                  0.161542  ...              0.045023      0.179651   \n",
       "50%                  0.246420  ...              0.077256      0.248310   \n",
       "75%                  0.338037  ...              0.122307      0.361793   \n",
       "max                  1.000000  ...              1.000000      1.000000   \n",
       "\n",
       "       texture_worst  perimeter_worst  area_worst  smoothness_worst  \\\n",
       "count     341.000000       341.000000  341.000000        341.000000   \n",
       "mean        0.358350         0.278217    0.167458          0.398758   \n",
       "std         0.159304         0.167639    0.142196          0.154633   \n",
       "min         0.000000         0.020320    0.009438          0.066565   \n",
       "25%         0.244136         0.165347    0.080785          0.282837   \n",
       "50%         0.351812         0.232880    0.120306          0.390477   \n",
       "75%         0.463486         0.358534    0.205417          0.494156   \n",
       "max         1.000000         1.000000    1.000000          0.972264   \n",
       "\n",
       "       compactness_worst  concavity_worst  concave points_worst  \\\n",
       "count         341.000000       341.000000            341.000000   \n",
       "mean            0.215037         0.210895              0.386814   \n",
       "std             0.152456         0.160643              0.227713   \n",
       "min             0.006821         0.000000              0.000000   \n",
       "25%             0.107508         0.086821              0.216357   \n",
       "50%             0.173094         0.171805              0.338866   \n",
       "75%             0.304945         0.300240              0.537801   \n",
       "max             0.883478         0.767412              1.000000   \n",
       "\n",
       "       symmetry_worst  \n",
       "count      341.000000  \n",
       "mean         0.266614  \n",
       "std          0.126462  \n",
       "min          0.000000  \n",
       "25%          0.189237  \n",
       "50%          0.251528  \n",
       "75%          0.317564  \n",
       "max          1.000000  \n",
       "\n",
       "[8 rows x 29 columns]"
      ]
     },
     "execution_count": 32,
     "metadata": {},
     "output_type": "execute_result"
    }
   ],
   "source": [
    "train_input[numeric_cols].describe()"
   ]
  },
  {
   "cell_type": "code",
   "execution_count": 33,
   "id": "fabed693-d53f-4120-88c8-d4e133b5fe8a",
   "metadata": {},
   "outputs": [],
   "source": [
    "X_train = train_input[numeric_cols]\n",
    "X_val = val_input[numeric_cols]\n",
    "X_test = test_input[numeric_cols]"
   ]
  },
  {
   "cell_type": "markdown",
   "id": "139949f2-b47c-4e5e-b564-d2a21926a9f4",
   "metadata": {},
   "source": [
    "#### 6. Saving Processed Data to Disk"
   ]
  },
  {
   "cell_type": "code",
   "execution_count": 34,
   "id": "d4dc96ab-f5cd-4900-bf59-c7c5558cca11",
   "metadata": {},
   "outputs": [],
   "source": [
    "#!pip install pyarrow --quiet"
   ]
  },
  {
   "cell_type": "code",
   "execution_count": 35,
   "id": "35f4ecdf-0547-4fc6-a964-e27c959797c5",
   "metadata": {},
   "outputs": [
    {
     "data": {
      "text/plain": [
       "\"\\nX_train.to_parquet('X_train.parquet')\\nX_val.to_parquet('X_val.parquet')\\nX_test.to_parquet('X_test.parquet')\\n\""
      ]
     },
     "execution_count": 35,
     "metadata": {},
     "output_type": "execute_result"
    }
   ],
   "source": [
    "'''\n",
    "X_train.to_parquet('X_train.parquet')\n",
    "X_val.to_parquet('X_val.parquet')\n",
    "X_test.to_parquet('X_test.parquet')\n",
    "'''"
   ]
  },
  {
   "cell_type": "code",
   "execution_count": 36,
   "id": "1b563e91-4d66-4990-a4ca-ee42a5f76a5e",
   "metadata": {},
   "outputs": [
    {
     "data": {
      "text/plain": [
       "\"pd.DataFrame(train_target).to_parquet('train_target.parquet')\\npd.DataFrame(val_target).to_parquet('val_target.parquet')\\npd.DataFrame(test_target).to_parquet('test_target.parquet')\""
      ]
     },
     "execution_count": 36,
     "metadata": {},
     "output_type": "execute_result"
    }
   ],
   "source": [
    "'''pd.DataFrame(train_target).to_parquet('train_target.parquet')\n",
    "pd.DataFrame(val_target).to_parquet('val_target.parquet')\n",
    "pd.DataFrame(test_target).to_parquet('test_target.parquet')'''"
   ]
  },
  {
   "cell_type": "markdown",
   "id": "2320b09f-d828-4ddb-b7e3-60fa7561dfb3",
   "metadata": {
    "tags": []
   },
   "source": [
    "## __Models__"
   ]
  },
  {
   "cell_type": "markdown",
   "id": "a96e2ac2-0f09-4d00-a57a-02161335aa23",
   "metadata": {},
   "source": [
    "* ### Logistic Regression Model"
   ]
  },
  {
   "cell_type": "code",
   "execution_count": 37,
   "id": "d45079df-adf3-4776-903c-60b510fbc93c",
   "metadata": {},
   "outputs": [],
   "source": [
    "model = LogisticRegression()"
   ]
  },
  {
   "cell_type": "code",
   "execution_count": 38,
   "id": "d399f346-2ef8-42ac-b5f0-fee1ec3c6761",
   "metadata": {},
   "outputs": [
    {
     "data": {
      "text/plain": [
       "LogisticRegression()"
      ]
     },
     "execution_count": 38,
     "metadata": {},
     "output_type": "execute_result"
    }
   ],
   "source": [
    "model.fit(X_train,train_target)"
   ]
  },
  {
   "cell_type": "markdown",
   "id": "ea317c77-b007-4d97-8b2c-ba55f62946be",
   "metadata": {},
   "source": [
    "* ### Logistic Regression Model Evaluation"
   ]
  },
  {
   "cell_type": "code",
   "execution_count": 39,
   "id": "610967cb-bdfa-41ca-8a17-d0eac5822791",
   "metadata": {},
   "outputs": [
    {
     "data": {
      "text/plain": [
       "0.9736070381231672"
      ]
     },
     "execution_count": 39,
     "metadata": {},
     "output_type": "execute_result"
    }
   ],
   "source": [
    "model.score(X_train,train_target)"
   ]
  },
  {
   "cell_type": "markdown",
   "id": "20738d07-8256-4711-92fb-1482050813aa",
   "metadata": {},
   "source": [
    "##### It gives pretty high accuracy. Now, lets see the accuracy for the validation set."
   ]
  },
  {
   "cell_type": "code",
   "execution_count": 40,
   "id": "fa9049cd-c11c-4805-965b-c61ac648627e",
   "metadata": {},
   "outputs": [
    {
     "data": {
      "text/plain": [
       "0.956140350877193"
      ]
     },
     "execution_count": 40,
     "metadata": {},
     "output_type": "execute_result"
    }
   ],
   "source": [
    "model.score(X_val,val_target)"
   ]
  },
  {
   "cell_type": "code",
   "execution_count": 41,
   "id": "0c0ce26f-5d50-45b8-930b-669df0412c15",
   "metadata": {},
   "outputs": [
    {
     "data": {
      "text/plain": [
       "0.9736842105263158"
      ]
     },
     "execution_count": 41,
     "metadata": {},
     "output_type": "execute_result"
    }
   ],
   "source": [
    "model.score(X_test,test_target)"
   ]
  },
  {
   "cell_type": "code",
   "execution_count": 42,
   "id": "9397e744-b0e0-4c38-8054-2ad0b268b0e2",
   "metadata": {},
   "outputs": [],
   "source": [
    "def predict_and_plot(inputs, targets, name=''):\n",
    "    preds = model.predict(inputs)\n",
    "    \n",
    "    accuracy = accuracy_score(targets, preds)\n",
    "    print(\"Accuracy: {:.2f}%\".format(accuracy * 100))\n",
    "    \n",
    "    cf = confusion_matrix(targets, preds, normalize='true')\n",
    "    plt.figure()\n",
    "    sns.heatmap(cf, annot=True)\n",
    "    plt.xlabel('Prediction')\n",
    "    plt.ylabel('Target')\n",
    "    plt.title('{} Confusion Matrix'.format(name));\n",
    "    \n",
    "    return preds"
   ]
  },
  {
   "cell_type": "code",
   "execution_count": 43,
   "id": "c545f7b1-10e2-45cf-a4a2-0ca46a782b96",
   "metadata": {},
   "outputs": [
    {
     "name": "stdout",
     "output_type": "stream",
     "text": [
      "Accuracy: 97.36%\n"
     ]
    },
    {
     "data": {
      "image/png": "[encoded data removed]",
      "text/plain": [
       "<Figure size 576x432 with 2 Axes>"
      ]
     },
     "metadata": {
      "needs_background": "light"
     },
     "output_type": "display_data"
    }
   ],
   "source": [
    "train_preds = predict_and_plot(X_train, train_target, 'Training')"
   ]
  },
  {
   "cell_type": "code",
   "execution_count": 44,
   "id": "45004afc-a2ae-4052-99c2-d4aba490fecf",
   "metadata": {},
   "outputs": [
    {
     "name": "stdout",
     "output_type": "stream",
     "text": [
      "Accuracy: 95.61%\n"
     ]
    },
    {
     "data": {
      "image/png": "[encoded data removed]",
      "text/plain": [
       "<Figure size 576x432 with 2 Axes>"
      ]
     },
     "metadata": {
      "needs_background": "light"
     },
     "output_type": "display_data"
    }
   ],
   "source": [
    "train_preds = predict_and_plot(X_val, val_target, 'Validation')"
   ]
  },
  {
   "cell_type": "code",
   "execution_count": 45,
   "id": "1f818dce-a5bd-4c88-88ce-925649dfaa83",
   "metadata": {},
   "outputs": [
    {
     "name": "stdout",
     "output_type": "stream",
     "text": [
      "Accuracy: 97.37%\n"
     ]
    },
    {
     "data": {
      "image/png": "[encoded data removed]",
      "text/plain": [
       "<Figure size 576x432 with 2 Axes>"
      ]
     },
     "metadata": {
      "needs_background": "light"
     },
     "output_type": "display_data"
    }
   ],
   "source": [
    "train_preds = predict_and_plot(X_test, test_target, 'Test')"
   ]
  },
  {
   "cell_type": "markdown",
   "id": "c1f45cc5-efae-4a62-bbd8-bc956e54a851",
   "metadata": {},
   "source": [
    "* ### Decision Tree Model"
   ]
  },
  {
   "cell_type": "code",
   "execution_count": 47,
   "id": "53a24812-d956-409a-9c99-ee0b37f513df",
   "metadata": {},
   "outputs": [],
   "source": [
    "model_2 = DecisionTreeClassifier( random_state = 42) "
   ]
  },
  {
   "cell_type": "code",
   "execution_count": 48,
   "id": "a855e024-d2e5-474c-b82b-8e904e4a701a",
   "metadata": {},
   "outputs": [
    {
     "data": {
      "text/plain": [
       "DecisionTreeClassifier(random_state=42)"
      ]
     },
     "execution_count": 48,
     "metadata": {},
     "output_type": "execute_result"
    }
   ],
   "source": [
    "model_2.fit(X_train , train_target)"
   ]
  },
  {
   "cell_type": "code",
   "execution_count": 49,
   "id": "51dfec32-57d6-420d-a7ab-c8629c1d18fb",
   "metadata": {},
   "outputs": [
    {
     "data": {
      "text/plain": [
       "1.0"
      ]
     },
     "execution_count": 49,
     "metadata": {},
     "output_type": "execute_result"
    }
   ],
   "source": [
    "model_2.score(X_train,train_target)"
   ]
  },
  {
   "cell_type": "code",
   "execution_count": 50,
   "id": "46596a83-9e65-47e8-9c8e-e2991e7341f8",
   "metadata": {},
   "outputs": [
    {
     "data": {
      "text/plain": [
       "0.9473684210526315"
      ]
     },
     "execution_count": 50,
     "metadata": {},
     "output_type": "execute_result"
    }
   ],
   "source": [
    "model_2.score(X_val,val_target)"
   ]
  },
  {
   "cell_type": "code",
   "execution_count": 51,
   "id": "86505219-4f5f-4dcd-9bb8-b8c339121eee",
   "metadata": {},
   "outputs": [
    {
     "data": {
      "text/plain": [
       "0.9473684210526315"
      ]
     },
     "execution_count": 51,
     "metadata": {},
     "output_type": "execute_result"
    }
   ],
   "source": [
    "model_2.score(X_test,test_target)"
   ]
  },
  {
   "cell_type": "markdown",
   "id": "cbab0323-2961-4366-a686-1c1b9808b2bc",
   "metadata": {},
   "source": [
    "* ### Random Forest Model"
   ]
  },
  {
   "cell_type": "code",
   "execution_count": 52,
   "id": "1ed70229-235e-41a8-9d4d-1f879ef3f5e3",
   "metadata": {},
   "outputs": [],
   "source": [
    "from sklearn.ensemble import RandomForestClassifier"
   ]
  },
  {
   "cell_type": "code",
   "execution_count": 55,
   "id": "2756f16c-ba1b-414a-84dc-5d593f0c0fbe",
   "metadata": {},
   "outputs": [],
   "source": [
    "model_3 = RandomForestClassifier(n_jobs=-1 , random_state = 42)"
   ]
  },
  {
   "cell_type": "code",
   "execution_count": 56,
   "id": "7f873c6c-1a94-409a-bed9-06c9a29ebb54",
   "metadata": {},
   "outputs": [
    {
     "data": {
      "text/plain": [
       "RandomForestClassifier(n_jobs=-1, random_state=42)"
      ]
     },
     "execution_count": 56,
     "metadata": {},
     "output_type": "execute_result"
    }
   ],
   "source": [
    "model_3.fit(X_train , train_target)"
   ]
  },
  {
   "cell_type": "code",
   "execution_count": 57,
   "id": "a5f5a09b-7d93-44cd-b38e-d52f9d733d8b",
   "metadata": {},
   "outputs": [
    {
     "data": {
      "text/plain": [
       "1.0"
      ]
     },
     "execution_count": 57,
     "metadata": {},
     "output_type": "execute_result"
    }
   ],
   "source": [
    "model_3.score(X_train,train_target)"
   ]
  },
  {
   "cell_type": "code",
   "execution_count": 58,
   "id": "1d1d3464-a6ca-4a84-8bf6-03e2e01950cf",
   "metadata": {},
   "outputs": [
    {
     "data": {
      "text/plain": [
       "0.9649122807017544"
      ]
     },
     "execution_count": 58,
     "metadata": {},
     "output_type": "execute_result"
    }
   ],
   "source": [
    "model_3.score(X_val,val_target)"
   ]
  },
  {
   "cell_type": "markdown",
   "id": "e7c02c7f-bd65-4b2d-b7df-185a1fb355a0",
   "metadata": {},
   "source": [
    "##### Model is giving very poor accuracy for Decision Tree & Random Forest. Logistic Regression is the best algorithm for the model."
   ]
  },
  {
   "cell_type": "code",
   "execution_count": null,
   "id": "b125fbea-a58f-45ef-bb95-73b621109c96",
   "metadata": {},
   "outputs": [],
   "source": []
  }
 ],
 "metadata": {
  "kernelspec": {
   "display_name": "Python 3 (ipykernel)",
   "language": "python",
   "name": "python3"
  },
  "language_info": {
   "codemirror_mode": {
    "name": "ipython",
    "version": 3
   },
   "file_extension": ".py",
   "mimetype": "text/x-python",
   "name": "python",
   "nbconvert_exporter": "python",
   "pygments_lexer": "ipython3",
   "version": "3.9.12"
  }
 },
 "nbformat": 4,
 "nbformat_minor": 5
}
